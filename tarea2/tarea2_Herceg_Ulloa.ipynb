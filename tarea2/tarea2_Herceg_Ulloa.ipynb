{
 "cells": [
  {
   "cell_type": "markdown",
   "metadata": {},
   "source": [
    "# Tarea 2: ¿Es posible explicar la cantidad de billonarios en base al desarrollo país?  <a class=\"tocSkip\"></a>\n",
    "\n",
    "\n",
    "\n",
    "\n",
    "\n"
   ]
  },
  {
   "cell_type": "markdown",
   "metadata": {},
   "source": [
    "## Introducción\n",
    "\n",
    "En 2006 *Daniel Treisman* publicó un artículo titulado [*Russia Billionaries*](https://pubs.aeaweb.org/doi/pdfplus/10.1257/aer.p20161068) en el cual conectó la cantidad de billonarios de un país con ciertos atributos económicos de los mismos. \n",
    "\n",
    "Su conclusión principal fue que Rusia tiene una cantidad de billonarios mayor que la que predicen los indicadores económicos\n",
    "\n",
    "En esta tarea ustedes analizarán datos para comprobar o refutar los hallazgos de *D. Treisman*"
   ]
  },
  {
   "cell_type": "markdown",
   "metadata": {},
   "source": [
    "## Datos\n",
    "\n",
    "Para esta tarea se les provee de un conjunto de datos indexado por país con los siguientes atributos\n",
    "- `nbillonarios`: La cantidad de billonarios del pais\n",
    "- `logpibpc`: El logaritmo del Producto Interno Bruto (PIB) per capita del pais\n",
    "- `logpob`: El logaritmo de la población del pais\n",
    "- `gatt`: La cantidad de años que el pais está adherido al *General Agreement on Tariffs and Trade* (GATT)"
   ]
  },
  {
   "cell_type": "code",
   "execution_count": 1,
   "metadata": {
    "ExecuteTime": {
     "end_time": "2020-07-30T01:32:48.460693Z",
     "start_time": "2020-07-30T01:32:48.117497Z"
    },
    "scrolled": false
   },
   "outputs": [
    {
     "data": {
      "text/html": [
       "<div>\n",
       "<style scoped>\n",
       "    .dataframe tbody tr th:only-of-type {\n",
       "        vertical-align: middle;\n",
       "    }\n",
       "\n",
       "    .dataframe tbody tr th {\n",
       "        vertical-align: top;\n",
       "    }\n",
       "\n",
       "    .dataframe thead th {\n",
       "        text-align: right;\n",
       "    }\n",
       "</style>\n",
       "<table border=\"1\" class=\"dataframe\">\n",
       "  <thead>\n",
       "    <tr style=\"text-align: right;\">\n",
       "      <th></th>\n",
       "      <th>nbillonarios</th>\n",
       "      <th>logpibpc</th>\n",
       "      <th>logpob</th>\n",
       "      <th>gatt</th>\n",
       "    </tr>\n",
       "    <tr>\n",
       "      <th>pais</th>\n",
       "      <th></th>\n",
       "      <th></th>\n",
       "      <th></th>\n",
       "      <th></th>\n",
       "    </tr>\n",
       "  </thead>\n",
       "  <tbody>\n",
       "    <tr>\n",
       "      <th>United States</th>\n",
       "      <td>469</td>\n",
       "      <td>10.786021</td>\n",
       "      <td>19.532846</td>\n",
       "      <td>60</td>\n",
       "    </tr>\n",
       "    <tr>\n",
       "      <th>Canada</th>\n",
       "      <td>25</td>\n",
       "      <td>10.743365</td>\n",
       "      <td>17.319439</td>\n",
       "      <td>0</td>\n",
       "    </tr>\n",
       "    <tr>\n",
       "      <th>Bahamas, The</th>\n",
       "      <td>0</td>\n",
       "      <td>10.072139</td>\n",
       "      <td>12.760934</td>\n",
       "      <td>0</td>\n",
       "    </tr>\n",
       "    <tr>\n",
       "      <th>Aruba</th>\n",
       "      <td>0</td>\n",
       "      <td>10.223734</td>\n",
       "      <td>11.526276</td>\n",
       "      <td>0</td>\n",
       "    </tr>\n",
       "    <tr>\n",
       "      <th>Bermuda</th>\n",
       "      <td>0</td>\n",
       "      <td>11.446847</td>\n",
       "      <td>11.086334</td>\n",
       "      <td>0</td>\n",
       "    </tr>\n",
       "    <tr>\n",
       "      <th>Cuba</th>\n",
       "      <td>0</td>\n",
       "      <td>8.590968</td>\n",
       "      <td>16.239990</td>\n",
       "      <td>8</td>\n",
       "    </tr>\n",
       "    <tr>\n",
       "      <th>Haiti</th>\n",
       "      <td>0</td>\n",
       "      <td>6.521256</td>\n",
       "      <td>16.081251</td>\n",
       "      <td>58</td>\n",
       "    </tr>\n",
       "    <tr>\n",
       "      <th>Dominican Republic</th>\n",
       "      <td>0</td>\n",
       "      <td>8.491694</td>\n",
       "      <td>16.092798</td>\n",
       "      <td>58</td>\n",
       "    </tr>\n",
       "    <tr>\n",
       "      <th>Jamaica</th>\n",
       "      <td>0</td>\n",
       "      <td>8.542905</td>\n",
       "      <td>14.798313</td>\n",
       "      <td>45</td>\n",
       "    </tr>\n",
       "    <tr>\n",
       "      <th>Trinidad and Tobago</th>\n",
       "      <td>0</td>\n",
       "      <td>9.960371</td>\n",
       "      <td>14.090448</td>\n",
       "      <td>46</td>\n",
       "    </tr>\n",
       "  </tbody>\n",
       "</table>\n",
       "</div>"
      ],
      "text/plain": [
       "                     nbillonarios   logpibpc     logpob  gatt\n",
       "pais                                                         \n",
       "United States                 469  10.786021  19.532846    60\n",
       "Canada                         25  10.743365  17.319439     0\n",
       "Bahamas, The                    0  10.072139  12.760934     0\n",
       "Aruba                           0  10.223734  11.526276     0\n",
       "Bermuda                         0  11.446847  11.086334     0\n",
       "Cuba                            0   8.590968  16.239990     8\n",
       "Haiti                           0   6.521256  16.081251    58\n",
       "Dominican Republic              0   8.491694  16.092798    58\n",
       "Jamaica                         0   8.542905  14.798313    45\n",
       "Trinidad and Tobago             0   9.960371  14.090448    46"
      ]
     },
     "execution_count": 1,
     "metadata": {},
     "output_type": "execute_result"
    }
   ],
   "source": [
    "import pandas as pd\n",
    "import matplotlib.pyplot as plt\n",
    "import numpy as np\n",
    "import scipy.optimize\n",
    "df = pd.read_csv('billonarios.csv', index_col='pais')\n",
    "\n",
    "\n",
    "from sklearn import metrics, model_selection\n",
    "df.head(10)"
   ]
  },
  {
   "cell_type": "markdown",
   "metadata": {},
   "source": [
    "## Modelo\n",
    "\n",
    "El objetivo principal de esta tarea es entrenar un modelo de regresión que prediga la cantidad de billonarios en función de los demás atributos\n",
    "\n",
    "> Note que el número de billonarios es una variable entera y no-negativa. Un modelo de regresión con verosimilitud Gaussiano no es apropiado\n",
    "\n",
    "Se pide entonces que use una [regresión de Poisson](https://en.wikipedia.org/wiki/Poisson_distribution), definimos entonces la probabilidad condicional para un pais $i$ como  \n",
    "\n",
    "$$\n",
    "p(y_i | x_i ) = \\frac{\\lambda_i^{y_i}}{y_i!} \\exp \\left ({-\\lambda_i} \\right)\n",
    "$$\n",
    "\n",
    "con\n",
    "\n",
    "$$\n",
    "\\lambda_i = \\exp \\left (\\theta_0 + \\sum_{j=1}^M \\theta_j x_{ij} \\right)\n",
    "$$\n",
    "\n",
    "donde \n",
    "- $\\theta$ es el vector de parámetros que deseamos ajustar \n",
    "- $y_i$ y $x_i$ son la cantidad de billonarios y el vector de atributos del país $i$, respectivamente\n",
    "\n",
    "Considerando esto, se pide que\n",
    "\n",
    "> Ajuste $\\theta$ mediante la maximización de la verosimilitud\n",
    "\n",
    "En primer lugar se pide que\n",
    "1. Estudie y describa la distribución de Poisson en detalle. Muestre como varía la distribución en función de su parámetro $\\lambda$, ¿Qué ocurre cuando $\\lambda$ es grande?\n",
    "1. Aplique el supuesto iid. Obtenga y muestre una expresión analítica para el logaritmo de la verosimilitud del problema\n",
    "1. Obtenga y muestre una expresión analítica para la primera deriviada del logaritmo de la verosimilitud"
   ]
  },
  {
   "cell_type": "markdown",
   "metadata": {},
   "source": [
    "\n",
    "$$\n",
    "f_\\theta(x_i) = \\theta_0 + \\sum_{j=1}^D \\theta_j x_{ij}\n",
    "$$\n",
    "\n",
    "\n",
    "$$\n",
    "\\log \\mathcal{L}(\\theta) = \\sum_{i=1}^M \\log p(y_i |\\lambda_i)\n",
    "$$"
   ]
  },
  {
   "cell_type": "markdown",
   "metadata": {},
   "source": [
    "Dado que $y_i$ sigue una distribución de poisson, entonces:\n",
    "\n",
    "$$\n",
    "\\log p(y_i | \\exp (f_\\theta(x_i)) ) = \\log (\\frac{\\exp (f_\\theta(x_i))^{y_i}}{y_i!} \\exp \\left ({-\\exp (f_\\theta(x_i))} \\right))\n",
    "$$\n",
    "$$\n",
    "= \\log (\\frac{\\exp (f_\\theta(x_i))^{y_i}}{y_i!}) + \\log( \\exp \\left ({-\\exp (f_\\theta(x_i))} \\right)) \n",
    "$$\n",
    "\n",
    "$$\n",
    "= \\log \\exp (f_\\theta(x_i))^{y_i} - \\log({y_i!}) + \\log( \\exp \\left ({-\\exp (f_\\theta(x_i))} \\right)) \n",
    "$$\n",
    "$$\n",
    "=  {y_i} f_\\theta(x_i) - \\log({y_i!}) + -\\exp f_\\theta(x_i)\n",
    "$$\n",
    "$$\n",
    "\\log \\mathcal{L}(\\theta) = \\sum_{i=1}^M {y_i} f_\\theta(x_i) + \\log({y_i!}) -\\exp f_\\theta(x_i)\n",
    "$$\n",
    "\n",
    "Si aplicamos la derivada...\n",
    "$$\n",
    "\\frac{d}{d\\theta_j} \\log \\mathcal{L}(\\theta) =  \\sum_{i=1}^M {y_i} \\frac{d f_\\theta(x_i)}{d\\theta_j} - \\exp f_\\theta(x_i) \\frac{d f_\\theta(x_i)}{d\\theta_j}\n",
    "$$\n",
    "\n",
    "$$\n",
    "= \\sum_{i=1}^M [{y_i} - \\exp f_\\theta(x_i)] \\frac{d f_\\theta(x_i)}{d\\theta_j}\n",
    "$$"
   ]
  },
  {
   "cell_type": "code",
   "execution_count": 2,
   "metadata": {
    "scrolled": false
   },
   "outputs": [],
   "source": [
    "#graficar billonarios\n",
    "billons = df.iloc[:, 0]"
   ]
  },
  {
   "cell_type": "code",
   "execution_count": 3,
   "metadata": {},
   "outputs": [],
   "source": [
    "def modelo(theta, X):\n",
    "    f = theta[0] + np.sum(theta[1:]*X, axis=1)\n",
    "\n",
    "    return (np.exp(f)), f\n",
    "\n",
    "def log_verosimilitud(theta, *args):\n",
    "    X, y = args\n",
    "    lamb, f = modelo(theta, X)\n",
    "    return -np.sum(y*np.log(lamb + 1e-10) - lamb)\n",
    "    \n",
    "def der_log_verosimilitud(theta, *args): #segun profe\n",
    "    X, y = args\n",
    "    N = len(y)\n",
    "    lamb, f = modelo(theta, X)\n",
    "    X1 = np.concatenate((np.ones(shape=(N, 1)), X), axis=1) # df / dtheta\n",
    "    aux = y - lamb\n",
    "    return -np.sum(aux[:, np.newaxis]*X1, axis=0) # dL / dtheta   \n",
    "\n",
    "\n"
   ]
  },
  {
   "cell_type": "code",
   "execution_count": 4,
   "metadata": {},
   "outputs": [],
   "source": []
  },
  {
   "cell_type": "code",
   "execution_count": null,
   "metadata": {},
   "outputs": [],
   "source": []
  },
  {
   "cell_type": "code",
   "execution_count": null,
   "metadata": {},
   "outputs": [],
   "source": []
  },
  {
   "cell_type": "code",
   "execution_count": null,
   "metadata": {},
   "outputs": [],
   "source": []
  },
  {
   "cell_type": "code",
   "execution_count": 78,
   "metadata": {},
   "outputs": [
    {
     "name": "stdout",
     "output_type": "stream",
     "text": [
      "(177,)\n",
      "[-1.82154106  1.62944272  1.86757833  0.10203269]\n",
      "0.7986016666637392\n",
      "[-1.82142546  1.62941998  1.86742612  0.10243887]\n",
      "0.7946124490673867\n",
      "[-1.82204257  1.62912911  1.86846576  0.1022919 ]\n",
      "0.7955690924572565\n",
      "[-1.82606035  1.63177182  1.87112634  0.10252173]\n",
      "0.7947775042324083\n",
      "[-1.82140963  1.62929842  1.86754552  0.10213969]\n",
      "0.8047477098563904\n"
     ]
    }
   ],
   "source": [
    "mask = np.array(df['nbillonarios'] < 10)\n",
    "\n",
    "y = df['nbillonarios'][mask].values\n",
    "print(y.shape)\n",
    "X = df.iloc[:, 1:][mask].values\n",
    "X = (X - np.mean(X, axis=0))/np.std(X, axis=0)\n",
    "\n",
    "\n",
    "for i in range(5):\n",
    "    #theta = np.random.randn(1+X.shape[1])\n",
    "    theta = 0.1*np.random.randn(4)\n",
    "    res = scipy.optimize.minimize(fun=log_verosimilitud, x0=theta, method='BFGS',\n",
    "                                  jac=der_log_verosimilitud, args=(X, y), tol=1e-1)\n",
    "\n",
    "\n",
    "    print(res.x)\n",
    "    #print(theta)\n",
    "    #r^2\n",
    "    print(1-(log_verosimilitud(res.x, X, y)/-np.sum(y*theta[0] - np.exp(theta[0]))))"
   ]
  },
  {
   "cell_type": "code",
   "execution_count": null,
   "metadata": {},
   "outputs": [],
   "source": []
  },
  {
   "cell_type": "code",
   "execution_count": null,
   "metadata": {
    "scrolled": false
   },
   "outputs": [],
   "source": []
  },
  {
   "cell_type": "code",
   "execution_count": 6,
   "metadata": {},
   "outputs": [],
   "source": [
    "predict_y, _ = modelo(res.x, X)"
   ]
  },
  {
   "cell_type": "markdown",
   "metadata": {},
   "source": [
    "$$\n",
    "\\log \\mathcal{L}(\\theta) = \\sum_{i=1}^M {y_i} f_\\theta(x_i) + \\log({y_i!}) -\\exp f_\\theta(x_i)\n",
    "$$"
   ]
  },
  {
   "cell_type": "markdown",
   "metadata": {},
   "source": [
    "## Implementación\n",
    "\n",
    "1. Implemente el logaritmo de la verosimilitud y su derivada usando `numpy`\n",
    "1. Encuentre el vector de parámetros óptimo usando `scipy.optimize.minimize`, justifique su decisión para el método y argumentos a usar\n",
    "1. Implemente una rutina que calcule el pseudo coeficiente de correlación\n",
    "$$\n",
    "R^2 = \\frac{\\log \\mathcal{L} (\\hat \\theta_0) - \\log \\mathcal{L} (\\hat \\theta) }{\\log \\mathcal{L} (\\hat \\theta_0)} \\in [0, 1]\n",
    "$$\n",
    "donde $\\log \\mathcal{L} (\\hat \\theta)$ es el logaritmo de la verosimilitud de su mejor modelo y $\\log \\mathcal{L} (\\hat \\theta_0)$ es el logaritmo de la verosimilitud de un modelo que tiene sólo el parámetro $\\theta_0$\n",
    "1. Implemente una rutina de bootstrap resampling para encontrar la distribución y los intervalos de confianza empíricos para $\\theta$ y para el pseudo coeficiente de correlación\n"
   ]
  },
  {
   "cell_type": "markdown",
   "metadata": {},
   "source": [
    "## Resultados\n",
    "\n",
    "1. Prediga la cantidad de billonarios de cada país usando su modelo. Muestre la cantidad de billonarios predicha y real para cada continente. ¿Qué puede comentar al respecto?\n",
    "1. Muestre las distribuciones empíricas de los parámetros y del pseudo coeficiente de correlación. ¿Cuáles parámetros tienen $\\theta$ significativamente distinto de cero? ¿Cuál es el intervalo de confianza al 95% del $R^2$? En base a esto ¿Qué puede decir sobre su modelo?\n",
    "1. Gráfique el error entre la cantidad de billonarios predicha y la cantidad de billonarios real. El gráfico debe mostrar los paises ordenados de mayor a menor **error absoluto**.  Analice ¿Cuáles son los 5 países con mayor error en la predicción? ¿Cuáles paises tienen un exceso de billonarios? ¿Cúales paises tienen menos billonarios de lo esperado? ¿Qué puede decir sobre Rusia?\n",
    "\n"
   ]
  },
  {
   "cell_type": "markdown",
   "metadata": {},
   "source": [
    "## Conclusiones\n",
    "\n",
    "Resuma sus principales hallazgos y comenté sobre las desafios encontrados al desarrollar esta tarea "
   ]
  },
  {
   "cell_type": "code",
   "execution_count": null,
   "metadata": {},
   "outputs": [],
   "source": []
  }
 ],
 "metadata": {
  "kernelspec": {
   "display_name": "Python 3",
   "language": "python",
   "name": "python3"
  },
  "language_info": {
   "codemirror_mode": {
    "name": "ipython",
    "version": 3
   },
   "file_extension": ".py",
   "mimetype": "text/x-python",
   "name": "python",
   "nbconvert_exporter": "python",
   "pygments_lexer": "ipython3",
   "version": "3.8.3"
  },
  "toc": {
   "base_numbering": 1,
   "nav_menu": {},
   "number_sections": true,
   "sideBar": true,
   "skip_h1_title": false,
   "title_cell": "Table of Contents",
   "title_sidebar": "Contents",
   "toc_cell": false,
   "toc_position": {},
   "toc_section_display": true,
   "toc_window_display": false
  }
 },
 "nbformat": 4,
 "nbformat_minor": 4
}
